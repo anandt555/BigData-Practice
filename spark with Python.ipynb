{
  {
   "cell_type": "markdown",
   "id": "9f7802c0",
   "metadata": {},
   "source": [
    "## PySpark Tutorial - Learn to use Apache Spark with Python"
   ]
  },
  {
   "cell_type": "code",
   "execution_count": 1,
   "id": "191fbee0",
   "metadata": {},
   "outputs": [],
   "source": [
    "import pandas as pd\n",
    "import numpy as np\n",
    "import matplotlib.pyplot as plt\n",
    "%matplotlib inline"
   ]
  },
  {
   "cell_type": "code",
   "execution_count": 2,
   "id": "792a3d3e",
   "metadata": {},
   "outputs": [],
   "source": [
    "import os\n",
    "import sys"
   ]
  },
  {
   "cell_type": "code",
   "execution_count": 3,
   "id": "335c18f9",
   "metadata": {},
   "outputs": [],
   "source": [
    "import findspark  \n",
    "findspark.init()"
   ]
  },
  {
   "cell_type": "markdown",
   "id": "4105b869",
   "metadata": {},
   "source": [
    "### Handshake between Python and Spark\n",
    "\n",
    "This would need if you would be installing spack seperatly in that case\n",
    "we need to download spark and java and do the below steps but not we can\n",
    "directly install pyspark and we can skip all these steps. I have tried both\n",
    "so for now commenting this code."
   ]
  },
  {
   "cell_type": "code",
   "execution_count": 4,
   "id": "76735bc2",
   "metadata": {},
   "outputs": [],
   "source": [
    "#spark_path=r\"C:\\Users\\anand.tiwari\\Documents\\DataProject\\spark-3.1.2-bin-hadoop3.2\""
   ]
  },
  {
   "cell_type": "code",
   "execution_count": 5,
   "id": "2f53754b",
   "metadata": {},
   "outputs": [],
   "source": [
    "# os.environ['SPARK_HOME']=spark_path\n",
    "# os.environ['HADOOP_HOME']=spark_path\n",
    "#os.environ[\"JAVA_HOME\"] = \"C:\\Program Files\\Java\\jdk-11.0.11\""
   ]
  },
  {
   "cell_type": "code",
   "execution_count": 6,
   "id": "8df5fe47",
   "metadata": {},
   "outputs": [],
   "source": [
    "# sys.path.append(spark_path+\"/bin\")\n",
    "# sys.path.append(spark_path+\"/python\")\n",
    "# sys.path.append(spark_path+\"/python/pyspark\")\n",
    "# sys.path.append(spark_path+\"/python/lib\")\n",
    "# sys.path.append(spark_path+\"python/lib/pyspark.zip\")\n",
    "# sys.path.append(spark_path+\"python/lib/py4j-0.10.9-src.zip\")"
   ]
  },
  {
   "cell_type": "markdown",
   "id": "b6c1d968",
   "metadata": {},
   "source": [
    "### Working with Pyspark"
   ]
  },
  {
   "cell_type": "code",
   "execution_count": 7,
   "id": "d07c7fa5",
   "metadata": {},
   "outputs": [],
   "source": [
    "from pyspark import SparkContext"
   ]
  },
  {
   "cell_type": "code",
   "execution_count": 8,
   "id": "6be59129",
   "metadata": {},
   "outputs": [],
   "source": [
    "from pyspark import SparkConf"
   ]
  },
  {
   "cell_type": "code",
   "execution_count": 9,
   "id": "1af1ac7c",
   "metadata": {},
   "outputs": [],
   "source": [
    "sc=SparkContext(\"local\",'test123')"
   ]
  },
  {
   "cell_type": "code",
   "execution_count": 10,
   "id": "8e65a5a9",
   "metadata": {},
   "outputs": [],
   "source": [
    "#working with RDD"
   ]
  },
  {
   "cell_type": "code",
   "execution_count": 11,
   "id": "d816fcbf",
   "metadata": {},
   "outputs": [
    {
     "data": {
      "text/html": [
       "\n",
       "        <div>\n",
       "            <p><b>SparkContext</b></p>\n",
       "\n",
       "            <p><a href=\"http://ECLHYDLT07.ECL.LOCAL:4040\">Spark UI</a></p>\n",
       "\n",
       "            <dl>\n",
       "              <dt>Version</dt>\n",
       "                <dd><code>v3.1.2</code></dd>\n",
       "              <dt>Master</dt>\n",
       "                <dd><code>local</code></dd>\n",
       "              <dt>AppName</dt>\n",
       "                <dd><code>test123</code></dd>\n",
       "            </dl>\n",
       "        </div>\n",
       "        "
      ],
      "text/plain": [
       "<SparkContext master=local appName=test123>"
      ]
     },
     "execution_count": 11,
     "metadata": {},
     "output_type": "execute_result"
    }
   ],
   "source": [
    "sc"
   ]
  },
  {
   "cell_type": "markdown",
   "id": "61ee95ce",
   "metadata": {},
   "source": [
    "### Working with RDD (Resilient Distributed Data)\n",
    "It is collection of objects. RDD can't be modifed, so first we need to stop context."
   ]
  },
  {
   "cell_type": "code",
   "execution_count": 12,
   "id": "49711029",
   "metadata": {},
   "outputs": [],
   "source": [
    "sc.stop() #stoping context"
   ]
  },
  {
   "cell_type": "code",
   "execution_count": 13,
   "id": "67fe70fd",
   "metadata": {},
   "outputs": [],
   "source": [
    "sc=SparkContext(master='local[2]') #two cores by default four cores"
   ]
  },
  {
   "cell_type": "code",
   "execution_count": 14,
   "id": "751fad86",
   "metadata": {},
   "outputs": [
    {
     "data": {
      "text/html": [
       "\n",
       "        <div>\n",
       "            <p><b>SparkContext</b></p>\n",
       "\n",
       "            <p><a href=\"http://ECLHYDLT07.ECL.LOCAL:4040\">Spark UI</a></p>\n",
       "\n",
       "            <dl>\n",
       "              <dt>Version</dt>\n",
       "                <dd><code>v3.1.2</code></dd>\n",
       "              <dt>Master</dt>\n",
       "                <dd><code>local[2]</code></dd>\n",
       "              <dt>AppName</dt>\n",
       "                <dd><code>pyspark-shell</code></dd>\n",
       "            </dl>\n",
       "        </div>\n",
       "        "
      ],
      "text/plain": [
       "<SparkContext master=local[2] appName=pyspark-shell>"
      ]
     },
     "execution_count": 14,
     "metadata": {},
     "output_type": "execute_result"
    }
   ],
   "source": [
    "sc"
   ]
  },
  {
   "cell_type": "markdown",
   "id": "56ce752c",
   "metadata": {},
   "source": [
    "### Transformations and actions in spark"
   ]
  },
  {
   "cell_type": "code",
   "execution_count": 15,
   "id": "8ba2793b",
   "metadata": {},
   "outputs": [],
   "source": [
    "data=[12,32,45,65,67,89]"
   ]
  },
  {
   "cell_type": "code",
   "execution_count": 16,
   "id": "091d3b9b",
   "metadata": {},
   "outputs": [
    {
     "name": "stdout",
     "output_type": "stream",
     "text": [
      "[12, 32, 45, 65, 67, 89]\n"
     ]
    }
   ],
   "source": [
    "print(data)"
   ]
  },
  {
   "cell_type": "code",
   "execution_count": 17,
   "id": "11c8284c",
   "metadata": {},
   "outputs": [],
   "source": [
    "#creating RDD using this data\n",
    "#parallelization of data\n",
    "rdd1=sc.parallelize(data)"
   ]
  },
  {
   "cell_type": "code",
   "execution_count": 18,
   "id": "05857060",
   "metadata": {},
   "outputs": [
    {
     "name": "stdout",
     "output_type": "stream",
     "text": [
      "ParallelCollectionRDD[0] at readRDDFromFile at PythonRDD.scala:274\n"
     ]
    }
   ],
   "source": [
    "print(rdd1)"
   ]
  },
  {
   "cell_type": "code",
   "execution_count": 19,
   "id": "102c5fd0",
   "metadata": {},
   "outputs": [
    {
     "data": {
      "text/plain": [
       "[12, 32, 45, 65, 67, 89]"
      ]
     },
     "execution_count": 19,
     "metadata": {},
     "output_type": "execute_result"
    }
   ],
   "source": [
    "rdd1.collect() #used to show all the collected data"
   ]
  },
  {
   "cell_type": "code",
   "execution_count": 20,
   "id": "7466fe59",
   "metadata": {},
   "outputs": [
    {
     "data": {
      "text/plain": [
       "6"
      ]
     },
     "execution_count": 20,
     "metadata": {},
     "output_type": "execute_result"
    }
   ],
   "source": [
    "rdd1.count() #element count "
   ]
  },
  {
   "cell_type": "code",
   "execution_count": 21,
   "id": "28143cd8",
   "metadata": {},
   "outputs": [
    {
     "data": {
      "text/plain": [
       "'3.1.2'"
      ]
     },
     "execution_count": 21,
     "metadata": {},
     "output_type": "execute_result"
    }
   ],
   "source": [
    "sc.version #spark version"
   ]
  },
  {
   "cell_type": "code",
   "execution_count": 22,
   "id": "a1a2b6bd",
   "metadata": {},
   "outputs": [
    {
     "data": {
      "text/plain": [
       "'3.8'"
      ]
     },
     "execution_count": 22,
     "metadata": {},
     "output_type": "execute_result"
    }
   ],
   "source": [
    "sc.pythonVer #python version"
   ]
  },
  {
   "cell_type": "code",
   "execution_count": 23,
   "id": "4230ce13",
   "metadata": {},
   "outputs": [
    {
     "data": {
      "text/plain": [
       "'local[2]'"
      ]
     },
     "execution_count": 23,
     "metadata": {},
     "output_type": "execute_result"
    }
   ],
   "source": [
    "#master url\n",
    "sc.master"
   ]
  },
  {
   "cell_type": "code",
   "execution_count": 24,
   "id": "4e519dff",
   "metadata": {},
   "outputs": [],
   "source": [
    "#set path of spark for other worker node"
   ]
  },
  {
   "cell_type": "code",
   "execution_count": 25,
   "id": "276440b8",
   "metadata": {},
   "outputs": [
    {
     "data": {
      "text/plain": [
       "2"
      ]
     },
     "execution_count": 25,
     "metadata": {},
     "output_type": "execute_result"
    }
   ],
   "source": [
    "#get list of number of partision\n",
    "rdd1.getNumPartitions()"
   ]
  },
  {
   "cell_type": "code",
   "execution_count": 26,
   "id": "3797eef8",
   "metadata": {},
   "outputs": [
    {
     "data": {
      "text/plain": [
       "False"
      ]
     },
     "execution_count": 26,
     "metadata": {},
     "output_type": "execute_result"
    }
   ],
   "source": [
    "rdd1.isEmpty()"
   ]
  },
  {
   "cell_type": "markdown",
   "id": "3f0ebf4b",
   "metadata": {},
   "source": [
    "### Basic statistics using the spark"
   ]
  },
  {
   "cell_type": "code",
   "execution_count": 27,
   "id": "ab7d8430",
   "metadata": {},
   "outputs": [
    {
     "data": {
      "text/plain": [
       "[12, 32, 45, 65, 67, 89]"
      ]
     },
     "execution_count": 27,
     "metadata": {},
     "output_type": "execute_result"
    }
   ],
   "source": [
    "rdd1.collect()"
   ]
  },
  {
   "cell_type": "code",
   "execution_count": 28,
   "id": "25f232a0",
   "metadata": {},
   "outputs": [
    {
     "data": {
      "text/plain": [
       "89"
      ]
     },
     "execution_count": 28,
     "metadata": {},
     "output_type": "execute_result"
    }
   ],
   "source": [
    "rdd1.max()"
   ]
  },
  {
   "cell_type": "code",
   "execution_count": 29,
   "id": "41dee984",
   "metadata": {},
   "outputs": [
    {
     "data": {
      "text/plain": [
       "12"
      ]
     },
     "execution_count": 29,
     "metadata": {},
     "output_type": "execute_result"
    }
   ],
   "source": [
    "rdd1.min()"
   ]
  },
  {
   "cell_type": "code",
   "execution_count": 30,
   "id": "7cdc6d83",
   "metadata": {},
   "outputs": [
    {
     "data": {
      "text/plain": [
       "25.20361526095457"
      ]
     },
     "execution_count": 30,
     "metadata": {},
     "output_type": "execute_result"
    }
   ],
   "source": [
    "rdd1.stdev()"
   ]
  },
  {
   "cell_type": "code",
   "execution_count": 31,
   "id": "84990aa8",
   "metadata": {},
   "outputs": [
    {
     "data": {
      "text/plain": [
       "51.666666666666664"
      ]
     },
     "execution_count": 31,
     "metadata": {},
     "output_type": "execute_result"
    }
   ],
   "source": [
    "rdd1.mean()"
   ]
  },
  {
   "cell_type": "code",
   "execution_count": 32,
   "id": "45a235e4",
   "metadata": {},
   "outputs": [
    {
     "data": {
      "text/plain": [
       "635.2222222222222"
      ]
     },
     "execution_count": 32,
     "metadata": {},
     "output_type": "execute_result"
    }
   ],
   "source": [
    "rdd1.variance()"
   ]
  },
  {
   "cell_type": "code",
   "execution_count": 33,
   "id": "2a926d74",
   "metadata": {},
   "outputs": [
    {
     "data": {
      "text/plain": [
       "(count: 6, mean: 51.666666666666664, stdev: 25.20361526095457, max: 89.0, min: 12.0)"
      ]
     },
     "execution_count": 33,
     "metadata": {},
     "output_type": "execute_result"
    }
   ],
   "source": [
    "rdd1.stats()"
   ]
  },
  {
   "cell_type": "markdown",
   "id": "789296e6",
   "metadata": {},
   "source": [
    "### Basic Statistics Test"
   ]
  },
  {
   "cell_type": "code",
   "execution_count": 34,
   "id": "33b0def7",
   "metadata": {},
   "outputs": [],
   "source": [
    "import numpy as np\n",
    "from pyspark.mllib.stat import Statistics "
   ]
  },
  {
   "cell_type": "code",
   "execution_count": 35,
   "id": "0368940e",
   "metadata": {},
   "outputs": [],
   "source": [
    "mat=sc.parallelize([np.array([10.1,12.4,14.5,16.8,21.3]),\n",
    "                    np.array([21.3,24.2,35.2,36.4,31.7]),\n",
    "                   np.array([21.1,23,54,65,71])])"
   ]
  },
  {
   "cell_type": "code",
   "execution_count": 36,
   "id": "ee821978",
   "metadata": {},
   "outputs": [
    {
     "name": "stdout",
     "output_type": "stream",
     "text": [
      "ParallelCollectionRDD[9] at readRDDFromFile at PythonRDD.scala:274\n"
     ]
    }
   ],
   "source": [
    "print(mat) #got converted to the RDD"
   ]
  },
  {
   "cell_type": "code",
   "execution_count": 37,
   "id": "221d6fc4",
   "metadata": {},
   "outputs": [
    {
     "data": {
      "text/plain": [
       "[array([10.1, 12.4, 14.5, 16.8, 21.3]),\n",
       " array([21.3, 24.2, 35.2, 36.4, 31.7]),\n",
       " array([21.1, 23. , 54. , 65. , 71. ])]"
      ]
     },
     "execution_count": 37,
     "metadata": {},
     "output_type": "execute_result"
    }
   ],
   "source": [
    "mat.collect()"
   ]
  },
  {
   "cell_type": "code",
   "execution_count": 38,
   "id": "ab5ae319",
   "metadata": {},
   "outputs": [],
   "source": [
    "summary=Statistics.colStats(mat)"
   ]
  },
  {
   "cell_type": "code",
   "execution_count": 39,
   "id": "7e848be0",
   "metadata": {},
   "outputs": [
    {
     "data": {
      "text/plain": [
       "array([17.5       , 19.86666667, 34.56666667, 39.4       , 41.33333333])"
      ]
     },
     "execution_count": 39,
     "metadata": {},
     "output_type": "execute_result"
    }
   ],
   "source": [
    "summary.mean()"
   ]
  },
  {
   "cell_type": "code",
   "execution_count": 40,
   "id": "0603ec7c",
   "metadata": {},
   "outputs": [
    {
     "data": {
      "text/plain": [
       "array([ 41.08      ,  42.17333333, 390.36333333, 587.56      ,\n",
       "       687.12333333])"
      ]
     },
     "execution_count": 40,
     "metadata": {},
     "output_type": "execute_result"
    }
   ],
   "source": [
    "summary.variance()"
   ]
  },
  {
   "cell_type": "code",
   "execution_count": 41,
   "id": "5f737b46",
   "metadata": {},
   "outputs": [],
   "source": [
    "#summary.numNonZeros()"
   ]
  },
  {
   "cell_type": "code",
   "execution_count": 42,
   "id": "03a9429e",
   "metadata": {},
   "outputs": [],
   "source": [
    "#calculate correlations\n",
    "X=sc.parallelize([10.1, 12.4, 14.5, 16.8, 21.3])\n",
    "Y=sc.parallelize([21.3,24.2,35.2,36.4,31.7])"
   ]
  },
  {
   "cell_type": "code",
   "execution_count": 43,
   "id": "7a8c93eb",
   "metadata": {},
   "outputs": [],
   "source": [
    "corr=Statistics.corr(X,Y,method='pearson')"
   ]
  },
  {
   "cell_type": "code",
   "execution_count": 44,
   "id": "34515104",
   "metadata": {},
   "outputs": [
    {
     "data": {
      "text/plain": [
       "0.670689483090363"
      ]
     },
     "execution_count": 44,
     "metadata": {},
     "output_type": "execute_result"
    }
   ],
   "source": [
    "corr"
   ]
  },
  {
   "cell_type": "code",
   "execution_count": 45,
   "id": "063b96bc",
   "metadata": {},
   "outputs": [],
   "source": [
    "from pyspark.mllib.linalg import Matrices, Vectors\n",
    "from pyspark.mllib.regression import LabeledPoint\n",
    "from pyspark.mllib.stat import Statistics"
   ]
  },
  {
   "cell_type": "code",
   "execution_count": 46,
   "id": "14448209",
   "metadata": {},
   "outputs": [],
   "source": [
    "vec= Vectors.dense(10.1, 12.4, 14.5, 16.8, 21.3,21.3,24.2,35.2,36.4,31.7)"
   ]
  },
  {
   "cell_type": "code",
   "execution_count": 47,
   "id": "319a3bf5",
   "metadata": {},
   "outputs": [
    {
     "data": {
      "text/plain": [
       "DenseVector([10.1, 12.4, 14.5, 16.8, 21.3, 21.3, 24.2, 35.2, 36.4, 31.7])"
      ]
     },
     "execution_count": 47,
     "metadata": {},
     "output_type": "execute_result"
    }
   ],
   "source": [
    "vec"
   ]
  },
  {
   "cell_type": "code",
   "execution_count": 48,
   "id": "a13c7ac5",
   "metadata": {},
   "outputs": [],
   "source": [
    "goodnesstest= Statistics.chiSqTest(vec)"
   ]
  },
  {
   "cell_type": "code",
   "execution_count": 49,
   "id": "84483f9e",
   "metadata": {},
   "outputs": [
    {
     "name": "stdout",
     "output_type": "stream",
     "text": [
      "Chi squared test summary:\n",
      "method: pearson\n",
      "degrees of freedom = 9 \n",
      "statistic = 35.598436802143816 \n",
      "pValue = 4.6706423698972266E-5 \n",
      "Very strong presumption against null hypothesis: observed follows the same distribution as expected..\n"
     ]
    }
   ],
   "source": [
    "print(goodnesstest)"
   ]
  },
  {
   "cell_type": "code",
   "execution_count": 50,
   "id": "8f23198b",
   "metadata": {},
   "outputs": [],
   "source": [
    "# from the above can say observed value follows \n",
    "#the same distribution as expected"
   ]
  },
  {
   "cell_type": "markdown",
   "id": "045fa3bd",
   "metadata": {},
   "source": [
    "### Applying machine learning with Spark"
   ]
  },
  {
   "cell_type": "code",
   "execution_count": 51,
   "id": "14cdabfd",
   "metadata": {},
   "outputs": [],
   "source": [
    "#take the wine quality dataset\n",
    "data = pd.read_csv(\"https://archive.ics.uci.edu/ml/machine-learning-databases/wine/wine.data\",header=None,sep=',')"
   ]
  },
  {
   "cell_type": "code",
   "execution_count": 52,
   "id": "5dd98bf9",
   "metadata": {},
   "outputs": [
    {
     "data": {
      "text/html": [
       "<div>\n",
       "<style scoped>\n",
       "    .dataframe tbody tr th:only-of-type {\n",
       "        vertical-align: middle;\n",
       "    }\n",
       "\n",
       "    .dataframe tbody tr th {\n",
       "        vertical-align: top;\n",
       "    }\n",
       "\n",
       "    .dataframe thead th {\n",
       "        text-align: right;\n",
       "    }\n",
       "</style>\n",
       "<table border=\"1\" class=\"dataframe\">\n",
       "  <thead>\n",
       "    <tr style=\"text-align: right;\">\n",
       "      <th></th>\n",
       "      <th>0</th>\n",
       "      <th>1</th>\n",
       "      <th>2</th>\n",
       "      <th>3</th>\n",
       "      <th>4</th>\n",
       "      <th>5</th>\n",
       "      <th>6</th>\n",
       "      <th>7</th>\n",
       "      <th>8</th>\n",
       "      <th>9</th>\n",
       "      <th>10</th>\n",
       "      <th>11</th>\n",
       "      <th>12</th>\n",
       "      <th>13</th>\n",
       "    </tr>\n",
       "  </thead>\n",
       "  <tbody>\n",
       "    <tr>\n",
       "      <th>0</th>\n",
       "      <td>1</td>\n",
       "      <td>14.23</td>\n",
       "      <td>1.71</td>\n",
       "      <td>2.43</td>\n",
       "      <td>15.6</td>\n",
       "      <td>127</td>\n",
       "      <td>2.80</td>\n",
       "      <td>3.06</td>\n",
       "      <td>0.28</td>\n",
       "      <td>2.29</td>\n",
       "      <td>5.64</td>\n",
       "      <td>1.04</td>\n",
       "      <td>3.92</td>\n",
       "      <td>1065</td>\n",
       "    </tr>\n",
       "    <tr>\n",
       "      <th>1</th>\n",
       "      <td>1</td>\n",
       "      <td>13.20</td>\n",
       "      <td>1.78</td>\n",
       "      <td>2.14</td>\n",
       "      <td>11.2</td>\n",
       "      <td>100</td>\n",
       "      <td>2.65</td>\n",
       "      <td>2.76</td>\n",
       "      <td>0.26</td>\n",
       "      <td>1.28</td>\n",
       "      <td>4.38</td>\n",
       "      <td>1.05</td>\n",
       "      <td>3.40</td>\n",
       "      <td>1050</td>\n",
       "    </tr>\n",
       "    <tr>\n",
       "      <th>2</th>\n",
       "      <td>1</td>\n",
       "      <td>13.16</td>\n",
       "      <td>2.36</td>\n",
       "      <td>2.67</td>\n",
       "      <td>18.6</td>\n",
       "      <td>101</td>\n",
       "      <td>2.80</td>\n",
       "      <td>3.24</td>\n",
       "      <td>0.30</td>\n",
       "      <td>2.81</td>\n",
       "      <td>5.68</td>\n",
       "      <td>1.03</td>\n",
       "      <td>3.17</td>\n",
       "      <td>1185</td>\n",
       "    </tr>\n",
       "    <tr>\n",
       "      <th>3</th>\n",
       "      <td>1</td>\n",
       "      <td>14.37</td>\n",
       "      <td>1.95</td>\n",
       "      <td>2.50</td>\n",
       "      <td>16.8</td>\n",
       "      <td>113</td>\n",
       "      <td>3.85</td>\n",
       "      <td>3.49</td>\n",
       "      <td>0.24</td>\n",
       "      <td>2.18</td>\n",
       "      <td>7.80</td>\n",
       "      <td>0.86</td>\n",
       "      <td>3.45</td>\n",
       "      <td>1480</td>\n",
       "    </tr>\n",
       "    <tr>\n",
       "      <th>4</th>\n",
       "      <td>1</td>\n",
       "      <td>13.24</td>\n",
       "      <td>2.59</td>\n",
       "      <td>2.87</td>\n",
       "      <td>21.0</td>\n",
       "      <td>118</td>\n",
       "      <td>2.80</td>\n",
       "      <td>2.69</td>\n",
       "      <td>0.39</td>\n",
       "      <td>1.82</td>\n",
       "      <td>4.32</td>\n",
       "      <td>1.04</td>\n",
       "      <td>2.93</td>\n",
       "      <td>735</td>\n",
       "    </tr>\n",
       "    <tr>\n",
       "      <th>5</th>\n",
       "      <td>1</td>\n",
       "      <td>14.20</td>\n",
       "      <td>1.76</td>\n",
       "      <td>2.45</td>\n",
       "      <td>15.2</td>\n",
       "      <td>112</td>\n",
       "      <td>3.27</td>\n",
       "      <td>3.39</td>\n",
       "      <td>0.34</td>\n",
       "      <td>1.97</td>\n",
       "      <td>6.75</td>\n",
       "      <td>1.05</td>\n",
       "      <td>2.85</td>\n",
       "      <td>1450</td>\n",
       "    </tr>\n",
       "  </tbody>\n",
       "</table>\n",
       "</div>"
      ],
      "text/plain": [
       "   0      1     2     3     4    5     6     7     8     9     10    11    12  \\\n",
       "0   1  14.23  1.71  2.43  15.6  127  2.80  3.06  0.28  2.29  5.64  1.04  3.92   \n",
       "1   1  13.20  1.78  2.14  11.2  100  2.65  2.76  0.26  1.28  4.38  1.05  3.40   \n",
       "2   1  13.16  2.36  2.67  18.6  101  2.80  3.24  0.30  2.81  5.68  1.03  3.17   \n",
       "3   1  14.37  1.95  2.50  16.8  113  3.85  3.49  0.24  2.18  7.80  0.86  3.45   \n",
       "4   1  13.24  2.59  2.87  21.0  118  2.80  2.69  0.39  1.82  4.32  1.04  2.93   \n",
       "5   1  14.20  1.76  2.45  15.2  112  3.27  3.39  0.34  1.97  6.75  1.05  2.85   \n",
       "\n",
       "     13  \n",
       "0  1065  \n",
       "1  1050  \n",
       "2  1185  \n",
       "3  1480  \n",
       "4   735  \n",
       "5  1450  "
      ]
     },
     "execution_count": 52,
     "metadata": {},
     "output_type": "execute_result"
    }
   ],
   "source": [
    "data.head(6)"
   ]
  },
  {
   "cell_type": "code",
   "execution_count": 53,
   "id": "7e055eaf",
   "metadata": {},
   "outputs": [],
   "source": [
    "sc.stop()"
   ]
  },
  {
   "cell_type": "code",
   "execution_count": 54,
   "id": "1b8dbfc4",
   "metadata": {},
   "outputs": [],
   "source": [
    "sc= SparkContext(appName=\"Ml\")"
   ]
  },
  {
   "cell_type": "code",
   "execution_count": 55,
   "id": "929d5068",
   "metadata": {},
   "outputs": [],
   "source": [
    "data=sc.textFile('Book2.csv').map(lambda line:line.split(',')) \\\n",
    "            .filter(lambda line:len(line)>1)\\\n",
    "            .map(lambda line:(line[0],line[3],line[2]))\\\n",
    "            .collect()"
   ]
  },
  {
   "cell_type": "code",
   "execution_count": 56,
   "id": "4ee7484b",
   "metadata": {},
   "outputs": [
    {
     "name": "stdout",
     "output_type": "stream",
     "text": [
      "[('\"1', '2.43', '1.71'), ('\"1', '2.14', '1.78'), ('\"1', '2.67', '2.36'), ('\"1', '2.5', '1.95'), ('\"1', '2.87', '2.59'), ('\"1', '2.45', '1.76'), ('\"1', '2.45', '1.87'), ('\"1', '2.61', '2.15'), ('\"1', '2.17', '1.64'), ('\"1', '2.27', '1.35'), ('\"1', '2.3', '2.16'), ('\"1', '2.32', '1.48'), ('\"1', '2.41', '1.73'), ('\"1', '2.39', '1.73'), ('\"1', '2.38', '1.87'), ('\"1', '2.7', '1.81'), ('\"1', '2.72', '1.92'), ('\"1', '2.62', '1.57'), ('\"1', '2.48', '1.59'), ('\"1', '2.56', '3.1'), ('\"1', '2.28', '1.63'), ('\"1', '2.65', '3.8'), ('\"1', '2.36', '1.86'), ('\"1', '2.52', '1.6'), ('\"1', '2.61', '1.81'), ('\"1', '3.22', '2.05'), ('\"1', '2.62', '1.77'), ('\"1', '2.14', '1.72'), ('\"1', '2.8', '1.9'), ('\"1', '2.21', '1.68'), ('\"1', '2.7', '1.5'), ('\"1', '2.36', '1.66'), ('\"1', '2.36', '1.83'), ('\"1', '2.7', '1.53'), ('\"1', '2.65', '1.8'), ('\"1', '2.41', '1.81'), ('\"1', '2.84', '1.64'), ('\"1', '2.55', '1.65'), ('\"1', '2.1', '1.5'), ('\"1', '2.51', '3.99'), ('\"1', '2.31', '1.71'), ('\"1', '2.12', '3.84'), ('\"1', '2.59', '1.89'), ('\"1', '2.29', '3.98'), ('\"1', '2.1', '1.77'), ('\"1', '2.44', '4.04'), ('\"1', '2.28', '3.59'), ('\"1', '2.12', '1.68'), ('\"1', '2.4', '2.02'), ('\"1', '2.27', '1.73'), ('\"1', '2.04', '1.73'), ('\"1', '2.6', '1.65'), ('\"1', '2.42', '1.75'), ('\"1', '2.68', '1.9'), ('\"1', '2.25', '1.67'), ('\"1', '2.46', '1.73'), ('\"1', '2.3', '1.7'), ('\"1', '2.68', '1.97'), ('\"1', '2.5', '1.43'), ('\"2', '1.36', '.94'), ('\"2', '2.28', '1.1'), ('\"2', '2.02', '1.36'), ('\"2', '1.92', '1.25'), ('\"2', '2.16', '1.13'), ('\"2', '2.53', '1.45'), ('\"2', '2.56', '1.21'), ('\"2', '1.7', '1.01'), ('\"2', '1.92', '1.17'), ('\"2', '2.36', '.94'), ('\"2', '1.75', '1.19'), ('\"2', '2.21', '1.61'), ('\"2', '2.67', '1.51'), ('\"2', '2.24', '1.66'), ('\"2', '2.6', '1.67'), ('\"2', '2.3', '1.09'), ('\"2', '1.92', '1.88'), ('\"2', '1.71', '.9'), ('\"2', '2.23', '2.89'), ('\"2', '1.95', '.99'), ('\"2', '2.4', '3.87'), ('\"2', '2', '.92'), ('\"2', '2.2', '1.81'), ('\"2', '2.51', '1.13'), ('\"2', '2.32', '3.86'), ('\"2', '2.58', '.89'), ('\"2', '2.24', '.98'), ('\"2', '2.31', '1.61'), ('\"2', '2.62', '1.67'), ('\"2', '2.46', '2.06'), ('\"2', '2.3', '1.33'), ('\"2', '2.32', '1.83'), ('\"2', '2.42', '1.51'), ('\"2', '2.26', '1.53'), ('\"2', '2.22', '2.83'), ('\"2', '2.28', '1.99'), ('\"2', '2.2', '1.52'), ('\"2', '2.74', '2.12'), ('\"2', '1.98', '1.41'), ('\"2', '2.1', '1.07'), ('\"2', '2.21', '3.17'), ('\"2', '1.7', '2.08'), ('\"2', '1.9', '1.34'), ('\"2', '2.46', '2.45'), ('\"2', '1.88', '1.72'), ('\"2', '1.98', '1.73'), ('\"2', '2.27', '2.55'), ('\"2', '2.12', '1.73'), ('\"2', '2.28', '1.75'), ('\"2', '1.94', '1.29'), ('\"2', '2.7', '1.35'), ('\"2', '1.82', '3.74'), ('\"2', '2.17', '2.43'), ('\"2', '2.92', '2.68'), ('\"2', '2.5', '.74'), ('\"2', '2.5', '1.39'), ('\"2', '2.2', '1.51'), ('\"2', '1.99', '1.47'), ('\"2', '2.19', '1.61'), ('\"2', '1.98', '3.43'), ('\"2', '2', '3.43'), ('\"2', '2.42', '2.4'), ('\"2', '3.23', '2.05'), ('\"2', '2.73', '4.43'), ('\"2', '2.13', '5.8'), ('\"2', '2.39', '4.31'), ('\"2', '2.17', '2.16'), ('\"2', '2.29', '1.53'), ('\"2', '2.78', '2.13'), ('\"2', '2.3', '1.63'), ('\"2', '2.38', '4.3'), ('\"3', '2.32', '1.35'), ('\"3', '2.4', '2.99'), ('\"3', '2.4', '2.31'), ('\"3', '2.36', '3.55'), ('\"3', '2.25', '1.24'), ('\"3', '2.2', '2.46'), ('\"3', '2.54', '4.72'), ('\"3', '2.64', '5.51'), ('\"3', '2.19', '3.59'), ('\"3', '2.61', '2.96'), ('\"3', '2.7', '2.81'), ('\"3', '2.35', '2.56'), ('\"3', '2.72', '3.17'), ('\"3', '2.35', '4.95'), ('\"3', '2.2', '3.88'), ('\"3', '2.15', '3.57'), ('\"3', '2.23', '5.04'), ('\"3', '2.48', '4.61'), ('\"3', '2.38', '3.24'), ('\"3', '2.36', '3.9'), ('\"3', '2.62', '3.12'), ('\"3', '2.48', '2.67'), ('\"3', '2.75', '1.9'), ('\"3', '2.28', '3.3'), ('\"3', '2.1', '1.29'), ('\"3', '2.32', '5.19'), ('\"3', '2.38', '4.12'), ('\"3', '2.64', '3.03'), ('\"3', '2.7', '1.68'), ('\"3', '2.64', '1.67'), ('\"3', '2.38', '3.83'), ('\"3', '2.54', '3.26'), ('\"3', '2.58', '3.27'), ('\"3', '2.35', '3.45'), ('\"3', '2.3', '2.76'), ('\"3', '2.26', '4.36'), ('\"3', '2.6', '3.7'), ('\"3', '2.3', '3.37'), ('\"3', '2.69', '2.58'), ('\"3', '2.86', '4.6'), ('\"3', '2.32', '3.03'), ('\"3', '2.28', '2.39'), ('\"3', '2.48', '2.51'), ('\"3', '2.45', '5.65'), ('\"3', '2.48', '3.91'), ('\"3', '2.26', '4.28'), ('\"3', '2.37', '2.59'), ('\"3', '2.74', '4.1')]\n"
     ]
    }
   ],
   "source": [
    "print(data)"
   ]
  },
  {
   "cell_type": "code",
   "execution_count": 57,
   "id": "bcba85b8",
   "metadata": {},
   "outputs": [],
   "source": [
    "#lets take we have a multinomical calls i.e y have 3 classes\n",
    "#applying logistic regression"
   ]
  },
  {
   "cell_type": "code",
   "execution_count": 58,
   "id": "aa80fe20",
   "metadata": {},
   "outputs": [],
   "source": [
    "parsed_data = [LabeledPoint(0.0,[14.23,1.71,2.43,15.6]),\n",
    "              LabeledPoint(0.0,[13.2,1.78,2.14,11.2]),\n",
    "              LabeledPoint(1.0,[21.23,6.71,2.43,15.6]),\n",
    "              LabeledPoint(2.0,[36.23,78.71,6.43,90.6]),\n",
    "               LabeledPoint(2.0,[77.23,56.71,78.43,70.6]),\n",
    "               LabeledPoint(2.0,[87.23,99.71,66.43,55.6])]"
   ]
  },
  {
   "cell_type": "code",
   "execution_count": 59,
   "id": "f43c7e45",
   "metadata": {},
   "outputs": [
    {
     "data": {
      "text/plain": [
       "[LabeledPoint(0.0, [14.23,1.71,2.43,15.6]),\n",
       " LabeledPoint(0.0, [13.2,1.78,2.14,11.2]),\n",
       " LabeledPoint(1.0, [21.23,6.71,2.43,15.6]),\n",
       " LabeledPoint(2.0, [36.23,78.71,6.43,90.6]),\n",
       " LabeledPoint(2.0, [77.23,56.71,78.43,70.6]),\n",
       " LabeledPoint(2.0, [87.23,99.71,66.43,55.6])]"
      ]
     },
     "execution_count": 59,
     "metadata": {},
     "output_type": "execute_result"
    }
   ],
   "source": [
    "parsed_data"
   ]
  },
  {
   "cell_type": "code",
   "execution_count": 60,
   "id": "fe16f8ab",
   "metadata": {},
   "outputs": [],
   "source": [
    "from pyspark.mllib.classification import LogisticRegressionModel,LogisticRegressionWithLBFGS, LogisticRegressionWithSGD"
   ]
  },
  {
   "cell_type": "code",
   "execution_count": 61,
   "id": "4f27819f",
   "metadata": {},
   "outputs": [],
   "source": [
    "model=LogisticRegressionWithLBFGS.train(sc.parallelize(parsed_data),numClasses=3)"
   ]
  },
  {
   "cell_type": "code",
   "execution_count": 62,
   "id": "a8b40de3",
   "metadata": {},
   "outputs": [
    {
     "data": {
      "text/plain": [
       "0.0"
      ]
     },
     "execution_count": 62,
     "metadata": {},
     "output_type": "execute_result"
    }
   ],
   "source": [
    "model.intercept"
   ]
  },
  {
   "cell_type": "code",
   "execution_count": 63,
   "id": "ff63ed7c",
   "metadata": {},
   "outputs": [
    {
     "data": {
      "text/plain": [
       "DenseVector([5.4634, 4.9063, -4.6127, -7.7832, -5.9554, 5.8653, 3.4539, -0.8754])"
      ]
     },
     "execution_count": 63,
     "metadata": {},
     "output_type": "execute_result"
    }
   ],
   "source": [
    "model.weights"
   ]
  },
  {
   "cell_type": "code",
   "execution_count": null,
   "id": "687409e9",
   "metadata": {},
   "outputs": [],
   "source": []
  }
 ],
 "metadata": {
  "kernelspec": {
   "display_name": "Python 3",
   "language": "python",
   "name": "python3"
  },
  "language_info": {
   "codemirror_mode": {
    "name": "ipython",
    "version": 3
   },
   "file_extension": ".py",
   "mimetype": "text/x-python",
   "name": "python",
   "nbconvert_exporter": "python",
   "pygments_lexer": "ipython3",
   "version": "3.8.8"
  }
 },
 "nbformat": 4,
 "nbformat_minor": 5
}
